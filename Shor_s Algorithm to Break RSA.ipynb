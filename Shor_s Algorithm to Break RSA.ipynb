{
 "cells": [
  {
   "cell_type": "code",
   "execution_count": 1,
   "metadata": {},
   "outputs": [],
   "source": [
    "from qiskit import *\n",
    "from qiskit.quantum_info import *\n",
    "from qiskit.visualization import *\n",
    "import numpy as np\n"
   ]
  },
  {
   "cell_type": "code",
   "execution_count": 41,
   "metadata": {},
   "outputs": [],
   "source": [
    "import sympy"
   ]
  },
  {
   "cell_type": "code",
   "execution_count": 2,
   "metadata": {},
   "outputs": [],
   "source": [
    "def euclid_gcd(a,b):\n",
    "    if a==0:\n",
    "        return b\n",
    "    return euclid_gcd(b%a,a)"
   ]
  },
  {
   "cell_type": "markdown",
   "metadata": {},
   "source": [
    "RSA "
   ]
  },
  {
   "cell_type": "code",
   "execution_count": 71,
   "metadata": {},
   "outputs": [],
   "source": [
    "def get_decrypt_key(e, phi):\n",
    "    d = 0\n",
    "    x1 = 0\n",
    "    x2 = 1\n",
    "    y1 = 1\n",
    "    temp_phi = phi\n",
    "\n",
    "    while e > 0:\n",
    "        temp1 = temp_phi//e\n",
    "        temp2 = temp_phi - temp1 * e\n",
    "        temp_phi = e\n",
    "        e = temp2\n",
    "\n",
    "        x = x2- temp1* x1\n",
    "        y = d - temp1 * y1\n",
    "\n",
    "        x2 = x1\n",
    "        x1 = x\n",
    "        d = y1\n",
    "        y1 = y\n",
    "        \n",
    "    if temp_phi == 1:\n",
    "        return d + phi"
   ]
  },
  {
   "cell_type": "code",
   "execution_count": 76,
   "metadata": {},
   "outputs": [],
   "source": [
    "def encrypt(pk, plaintext):\n",
    "    key, n = pk\n",
    "    cipher = [(ord(char) ** key) % n for char in plaintext]\n",
    "    return cipher\n",
    "\n",
    "\n",
    "def decrypt(pk, ciphertext):\n",
    "    key, n = pk\n",
    "    plain = [chr((char ** key) % n) for char in ciphertext]\n",
    "    return ''.join(plain)"
   ]
  },
  {
   "cell_type": "code",
   "execution_count": 279,
   "metadata": {},
   "outputs": [],
   "source": [
    "p = sympy.randprime(0, 100)\n",
    "q = sympy.randprime(0, 100)\n",
    "# p = 3\n",
    "# q = 5\n",
    "N = p*q\n",
    "phi = (p-1) * (q-1)\n",
    "e = np.random.randint(2,phi)\n",
    "\n",
    "g = euclid_gcd(e,phi)\n",
    "while g != 1:\n",
    "    e = np.random.randint(2,phi)\n",
    "    g = euclid_gcd(e,phi)\n",
    "\n"
   ]
  },
  {
   "cell_type": "code",
   "execution_count": 280,
   "metadata": {},
   "outputs": [],
   "source": [
    "message = \"Text\"\n",
    "d = get_decrypt_key(e,phi)"
   ]
  },
  {
   "cell_type": "code",
   "execution_count": 281,
   "metadata": {},
   "outputs": [
    {
     "name": "stdout",
     "output_type": "stream",
     "text": [
      "287 193 240 7 41 337\n"
     ]
    }
   ],
   "source": [
    "print(N,e,phi,p,q,d) # (e,N) - public key pair; (d,N) - private key pair\n",
    "public = (e,N)\n",
    "private = (d,N)"
   ]
  },
  {
   "cell_type": "code",
   "execution_count": 282,
   "metadata": {},
   "outputs": [
    {
     "data": {
      "text/plain": [
       "[238, 108, 120, 53]"
      ]
     },
     "execution_count": 282,
     "metadata": {},
     "output_type": "execute_result"
    }
   ],
   "source": [
    "encrypted_msg = encrypt(public, message)\n",
    "encrypted_msg"
   ]
  },
  {
   "cell_type": "code",
   "execution_count": 283,
   "metadata": {},
   "outputs": [
    {
     "data": {
      "text/plain": [
       "'Text'"
      ]
     },
     "execution_count": 283,
     "metadata": {},
     "output_type": "execute_result"
    }
   ],
   "source": [
    "decrypted_msg=decrypt(private,encrypted_msg)\n",
    "decrypted_msg"
   ]
  },
  {
   "cell_type": "code",
   "execution_count": 284,
   "metadata": {},
   "outputs": [],
   "source": [
    "\n",
    "n_qubits = 4 #dynamic qubit system\n",
    "# binary = bin(N)[2:]\n",
    "# print(len(binary))\n",
    "# n_qubits = len(binary) "
   ]
  },
  {
   "cell_type": "code",
   "execution_count": 285,
   "metadata": {},
   "outputs": [
    {
     "name": "stdout",
     "output_type": "stream",
     "text": [
      "81\n"
     ]
    }
   ],
   "source": [
    "# np.random.seed(1) # This is to make sure we get reproduceable results\n",
    "m = np.random.randint(2,N)\n",
    "print(m)"
   ]
  },
  {
   "cell_type": "markdown",
   "metadata": {},
   "source": [
    "if gcd == 1 then m and N are co prime else m is one of the trivial factors of N"
   ]
  },
  {
   "cell_type": "code",
   "execution_count": 286,
   "metadata": {},
   "outputs": [
    {
     "name": "stdout",
     "output_type": "stream",
     "text": [
      "81\n",
      "Co-prime found\n"
     ]
    }
   ],
   "source": [
    "calc_gcd = euclid_gcd(m,N)\n",
    "while calc_gcd != 1:\n",
    "    m = np.random.randint(2,N)\n",
    "    calc_gcd = euclid_gcd(m,N)\n",
    "    \n",
    "print(m)\n",
    "print(\"Co-prime found\")\n"
   ]
  },
  {
   "cell_type": "markdown",
   "metadata": {},
   "source": [
    "find m^r mod N to find smallest 3 r > 0"
   ]
  },
  {
   "cell_type": "code",
   "execution_count": 251,
   "metadata": {},
   "outputs": [],
   "source": [
    "def m_rmodN(m, power):\n",
    "    U = QuantumCircuit(4)  \n",
    "    for i in range(power):\n",
    "        U.swap(2,3)\n",
    "        U.swap(1,2)\n",
    "        U.swap(0,1)\n",
    "        for q in range(4):\n",
    "            U.x(q)\n",
    "    \n",
    "    U = U.to_gate()\n",
    "    U.name = \"%i^%i mod %i\" % (m, power, N)\n",
    "    c_U = U.control()\n",
    "    return c_U"
   ]
  },
  {
   "cell_type": "code",
   "execution_count": 219,
   "metadata": {},
   "outputs": [],
   "source": [
    "def qft_dagger(n):\n",
    "    qc = QuantumCircuit(n)\n",
    "    for q in range(n//2):\n",
    "        qc.swap(q,n-q-1)\n",
    "    for j in range(n):\n",
    "        for m in range(j):\n",
    "            qc.cp(-np.pi/float(2**(j-m)),m,j)\n",
    "        qc.h(j)\n",
    "    qc.name = \"QFT Dagger\"\n",
    "    return qc"
   ]
  },
  {
   "cell_type": "markdown",
   "metadata": {},
   "source": [
    "s is random integer between 0 and r-1 where resultant phase is just s/r"
   ]
  },
  {
   "cell_type": "code",
   "execution_count": 287,
   "metadata": {},
   "outputs": [
    {
     "data": {
      "image/png": "[encoded data removed]",
      "text/plain": [
       "<Figure size 1290.6x565.88 with 1 Axes>"
      ]
     },
     "execution_count": 287,
     "metadata": {},
     "output_type": "execute_result"
    }
   ],
   "source": [
    "qc = QuantumCircuit(n_qubits + 4, n_qubits) # extra 4 qubits for U to act\n",
    "\n",
    "for q in range(n_qubits):\n",
    "    qc.h(q)\n",
    "    \n",
    "qc.x(3+n_qubits) # ancilla qubit to 1\n",
    "\n",
    "#perform controlled U operations\n",
    "for q in range(n_qubits):\n",
    "    qc.append(m_rmodN(m, 2**q), [q]+[i+n_qubits for i in range(4)])\n",
    "\n",
    "qc.append(qft_dagger(n_qubits),range(n_qubits))\n",
    "\n",
    "qc.measure(range(n_qubits),range(n_qubits))\n",
    "\n",
    "qc.draw('mpl')"
   ]
  },
  {
   "cell_type": "code",
   "execution_count": 288,
   "metadata": {},
   "outputs": [
    {
     "data": {
      "image/png": "[encoded data removed]",
      "text/plain": [
       "<Figure size 504x360 with 1 Axes>"
      ]
     },
     "execution_count": 288,
     "metadata": {},
     "output_type": "execute_result"
    }
   ],
   "source": [
    "backend = Aer.get_backend('qasm_simulator')\n",
    "results = execute(qc, backend, shots=1024).result()\n",
    "counts = results.get_counts()\n",
    "plot_histogram(counts)"
   ]
  },
  {
   "cell_type": "code",
   "execution_count": 289,
   "metadata": {},
   "outputs": [
    {
     "name": "stdout",
     "output_type": "stream",
     "text": [
      "        Register Output         Phase\n",
      "0  1000(bin) =   8(dec)   8/16 = 0.50\n",
      "1  0000(bin) =   0(dec)   0/16 = 0.00\n",
      "2  1100(bin) =  12(dec)  12/16 = 0.75\n",
      "3  0100(bin) =   4(dec)   4/16 = 0.25\n"
     ]
    }
   ],
   "source": [
    "import pandas as pd\n",
    "rows, measured_phases = [], []\n",
    "for output in counts:\n",
    "    decimal = int(output, 2)  # Convert (base 2) string to decimal\n",
    "    phase = decimal/(2**n_qubits)  # Find corresponding eigenvalue\n",
    "    measured_phases.append(phase)\n",
    "    # Add these values to the rows in our table:\n",
    "    rows.append([f\"{output}(bin) = {decimal:>3}(dec)\", \n",
    "                 f\"{decimal}/{2**n_qubits} = {phase:.2f}\"])\n",
    "# Print the rows in a table\n",
    "headers=[\"Register Output\", \"Phase\"]\n",
    "df = pd.DataFrame(rows, columns=headers)\n",
    "print(df)"
   ]
  },
  {
   "cell_type": "code",
   "execution_count": 290,
   "metadata": {},
   "outputs": [
    {
     "name": "stdout",
     "output_type": "stream",
     "text": [
      "   Phase Fraction  Guess for r\n",
      "0   0.50      1/2            2\n",
      "1   0.00      0/1            1\n",
      "2   0.75      3/4            4\n",
      "3   0.25      1/4            4\n"
     ]
    }
   ],
   "source": [
    "import fractions\n",
    "rows = []\n",
    "for phase in measured_phases:\n",
    "    frac = fractions.Fraction(phase).limit_denominator(N)\n",
    "    rows.append([phase, f\"{frac.numerator}/{frac.denominator}\", frac.denominator])\n",
    "# Print as a table\n",
    "headers=[\"Phase\", \"Fraction\", \"Guess for r\"]\n",
    "df = pd.DataFrame(rows, columns=headers)\n",
    "print(df)"
   ]
  },
  {
   "cell_type": "code",
   "execution_count": 291,
   "metadata": {},
   "outputs": [
    {
     "data": {
      "text/plain": [
       "[1, 2, 4]"
      ]
     },
     "execution_count": 291,
     "metadata": {},
     "output_type": "execute_result"
    }
   ],
   "source": [
    "g_set = df[\"Guess for r\"]\n",
    "g_set = set(g_set)\n",
    "g_set = list(g_set)\n",
    "g_set"
   ]
  },
  {
   "cell_type": "code",
   "execution_count": 292,
   "metadata": {},
   "outputs": [
    {
     "name": "stdout",
     "output_type": "stream",
     "text": [
      "[[287, 1], [287, 1], [1, 41]]\n"
     ]
    }
   ],
   "source": [
    "guesses = []\n",
    "for r in range(len(g_set)):\n",
    "    guesses.append([euclid_gcd(m**(r//2)-1, N), euclid_gcd(m**(r//2)+1, N)])\n",
    "\n",
    "print(guesses)\n"
   ]
  },
  {
   "cell_type": "code",
   "execution_count": 293,
   "metadata": {},
   "outputs": [
    {
     "name": "stdout",
     "output_type": "stream",
     "text": [
      "Non Trivial Factor are below\n",
      "41\n"
     ]
    }
   ],
   "source": [
    "factors = []\n",
    "for guess in guesses:\n",
    "    if N%guess[0] == 0 and guess[0] not in [1,N]:\n",
    "        print(\"Non Trivial Factor are below\")\n",
    "        print(guess[0])\n",
    "        factors.append(guess[0])\n",
    "    if N%guess[1]==0 and guess[1] not in [1,N]:\n",
    "        print(\"Non Trivial Factor are below\")\n",
    "        print(guess[1])\n",
    "        factors.append(guess[1])"
   ]
  },
  {
   "cell_type": "code",
   "execution_count": 294,
   "metadata": {},
   "outputs": [
    {
     "name": "stdout",
     "output_type": "stream",
     "text": [
      "[41]\n",
      "Factors are 41 and 7\n"
     ]
    }
   ],
   "source": [
    "if factors:\n",
    "    print(factors)\n",
    "if len(factors) == 0:\n",
    "    print(\"There are no prime factors found\")\n",
    "    \n",
    "elif len(factors) == 1:\n",
    "    factors.append(N//factors[0])\n",
    "    print(\"Factors are \"+str(factors[0])+ \" and \"+ str(factors[1]))\n",
    "elif len(factors) == 2:\n",
    "    print(\"Factors are \"+str(factors[0])+ \" and \"+ str(factors[1]))\n",
    "\n",
    "\n"
   ]
  },
  {
   "cell_type": "code",
   "execution_count": 307,
   "metadata": {},
   "outputs": [
    {
     "name": "stdout",
     "output_type": "stream",
     "text": [
      "Broke it! using p and q values\n"
     ]
    }
   ],
   "source": [
    "p,q = factors[0],factors[1]\n",
    "phi_shor = (p-1) * (q-1)\n",
    "dd = get_decrypt_key(e,phi_shor)\n",
    "priv = (dd,N)\n",
    "shor_decrypt=decrypt(priv,encrypted_msg)\n",
    "if shor_decrypt == decrypted_msg:\n",
    "    print(\"Broke it! using p and q values\")\n",
    "else:\n",
    "    print(\"NO LUCK :(\")"
   ]
  },
  {
   "cell_type": "code",
   "execution_count": 308,
   "metadata": {},
   "outputs": [
    {
     "data": {
      "text/plain": [
       "(41, 7, 337, 337)"
      ]
     },
     "execution_count": 308,
     "metadata": {},
     "output_type": "execute_result"
    }
   ],
   "source": [
    "p,q,d,dd"
   ]
  },
  {
   "cell_type": "code",
   "execution_count": 301,
   "metadata": {},
   "outputs": [
    {
     "data": {
      "text/plain": [
       "('Text', 'Text')"
      ]
     },
     "execution_count": 301,
     "metadata": {},
     "output_type": "execute_result"
    }
   ],
   "source": [
    "shor_decrypt,decrypted_msg"
   ]
  }
 ],
 "metadata": {
  "interpreter": {
   "hash": "e069b1b2415e32fe839fc1fc672dac5db4da568a61bf3cd80f8c70956b1bb988"
  },
  "kernelspec": {
   "display_name": "Python 3.9.7 ('base')",
   "language": "python",
   "name": "python3"
  },
  "language_info": {
   "codemirror_mode": {
    "name": "ipython",
    "version": 3
   },
   "file_extension": ".py",
   "mimetype": "text/x-python",
   "name": "python",
   "nbconvert_exporter": "python",
   "pygments_lexer": "ipython3",
   "version": "3.9.7"
  },
  "orig_nbformat": 4
 },
 "nbformat": 4,
 "nbformat_minor": 2
}
